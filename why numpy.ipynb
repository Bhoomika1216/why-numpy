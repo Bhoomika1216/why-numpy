{
 "cells": [
  {
   "cell_type": "code",
   "execution_count": null,
   "id": "ac3f0169-964e-4009-9d96-eba1c56c3c94",
   "metadata": {},
   "outputs": [],
   "source": [
    "why numpy?\n",
    "memory:numpy data structure takes up less space\n",
    "performance:it is more speed and faster than lists\n",
    "functionality:scipy & numpy have optimized functions such as linear algebra operations built in."
   ]
  },
  {
   "cell_type": "code",
   "execution_count": 1,
   "id": "4433d520-2d65-425e-83a5-cde0be9c755d",
   "metadata": {},
   "outputs": [
    {
     "name": "stdout",
     "output_type": "stream",
     "text": [
      "size of each element of list in bytes: 136\n",
      "size of the whole list in bytes: 1360\n"
     ]
    }
   ],
   "source": [
    "#declaring a list of 10 elements\n",
    "import numpy as np\n",
    "import sys\n",
    "s=[0,1,2,3,4,5,6,7,8,9]\n",
    "print(\"size of each element of list in bytes:\",sys.getsizeof(s))\n",
    "print(\"size of the whole list in bytes:\",sys.getsizeof(s)*len(s))"
   ]
  },
  {
   "cell_type": "code",
   "execution_count": 5,
   "id": "0606d0cf-bfd9-4033-a3cd-f026933050fc",
   "metadata": {},
   "outputs": [
    {
     "name": "stdout",
     "output_type": "stream",
     "text": [
      "size of each element of the numpy array in bytes: 4\n",
      "size of the whole numpy array in bytes: 40\n"
     ]
    }
   ],
   "source": [
    "#declaring a numpy array of 10 elements\n",
    "import numpy as np\n",
    "import sys\n",
    "D=np.array([0,1,2,3,4,5,6,7,8,9])\n",
    "print(\"size of each element of the numpy array in bytes:\",D.itemsize)\n",
    "print(\"size of the whole numpy array in bytes:\",D.size*D.itemsize)"
   ]
  },
  {
   "cell_type": "code",
   "execution_count": 6,
   "id": "ba14c12f-b91a-409f-88e6-37cb3b465cee",
   "metadata": {},
   "outputs": [
    {
     "name": "stdout",
     "output_type": "stream",
     "text": [
      "Time taken by Lists to perform multiplication: 2322.0624923706055 milliseconds\n",
      "Time taken by Lists to perform multiplication: 2354.1810512542725 milliseconds\n"
     ]
    }
   ],
   "source": [
    "#performance\n",
    "import numpy as np\n",
    "import time\n",
    "#size of arrays and lists\n",
    "size = 10000000\n",
    "#declaring lists\n",
    "list1=range(size)\n",
    "list2=range(size)\n",
    "#declaring arrays\n",
    "array1=np.arange(size)\n",
    "array2=np.arange(size)\n",
    "#capturing time befor the multiplication of python list\n",
    "initialTime=time.time()\n",
    "#multiplying elements of both the lists and stored in another list\n",
    "resultantList=[(a*b) for a, b in zip(list1, list2)]\n",
    "#calculating execution time\n",
    "print(\"Time taken by Lists to perform multiplication:\",(time.time()-initialTime)*1000,\"milliseconds\")\n",
    "#capturing time before the numpy multiplicataion of numpy arrays\n",
    "initialtime=time.time()\n",
    "#multiplying elements of both the numpy arrays and stored in another numpy array\n",
    "resultantArray=array1*array2\n",
    "#calculating execution time\n",
    "print(\"Time taken by Lists to perform multiplication:\",(time.time()-initialTime)*1000,\"milliseconds\")\n",
    "\n",
    "\n",
    "\n"
   ]
  },
  {
   "cell_type": "code",
   "execution_count": 7,
   "id": "0b211fa0-700d-48b8-b279-96cc18417806",
   "metadata": {},
   "outputs": [
    {
     "data": {
      "text/plain": [
       "array([1., 1., 1.])"
      ]
     },
     "execution_count": 7,
     "metadata": {},
     "output_type": "execute_result"
    }
   ],
   "source": [
    "np.ones(3)"
   ]
  },
  {
   "cell_type": "code",
   "execution_count": 8,
   "id": "b33af93f-9c37-4744-a7c9-a1ebb6440db7",
   "metadata": {},
   "outputs": [
    {
     "data": {
      "text/plain": [
       "array([0., 0., 0.])"
      ]
     },
     "execution_count": 8,
     "metadata": {},
     "output_type": "execute_result"
    }
   ],
   "source": [
    "np.zeros(3)"
   ]
  },
  {
   "cell_type": "code",
   "execution_count": 4,
   "id": "e26122b6-e899-4cc1-89bb-0b94c7339727",
   "metadata": {},
   "outputs": [
    {
     "data": {
      "text/plain": [
       "array([0.53603508, 0.23753654, 0.05698711])"
      ]
     },
     "execution_count": 4,
     "metadata": {},
     "output_type": "execute_result"
    }
   ],
   "source": [
    "import numpy as np\n",
    "np.random.random(3)"
   ]
  },
  {
   "cell_type": "code",
   "execution_count": 25,
   "id": "2959025d-a824-476e-95c1-2a73959fc422",
   "metadata": {},
   "outputs": [
    {
     "data": {
      "text/plain": [
       "1"
      ]
     },
     "execution_count": 25,
     "metadata": {},
     "output_type": "execute_result"
    }
   ],
   "source": [
    "#Slicing 1D arrasys\n",
    "data=np.array([1,2,3])\n",
    "data[0]"
   ]
  },
  {
   "cell_type": "code",
   "execution_count": 26,
   "id": "cdfb07ae-ef60-45f9-b52c-da9299dd8734",
   "metadata": {},
   "outputs": [
    {
     "data": {
      "text/plain": [
       "2"
      ]
     },
     "execution_count": 26,
     "metadata": {},
     "output_type": "execute_result"
    }
   ],
   "source": [
    "data[1]"
   ]
  },
  {
   "cell_type": "code",
   "execution_count": 27,
   "id": "35109290-a507-48ca-9a12-76d2c4f8fb78",
   "metadata": {},
   "outputs": [
    {
     "data": {
      "text/plain": [
       "array([1, 2])"
      ]
     },
     "execution_count": 27,
     "metadata": {},
     "output_type": "execute_result"
    }
   ],
   "source": [
    "data[0:2]"
   ]
  },
  {
   "cell_type": "code",
   "execution_count": 28,
   "id": "b17b8cc1-baa5-4698-8d75-ff217fd27ca5",
   "metadata": {},
   "outputs": [
    {
     "data": {
      "text/plain": [
       "array([2, 3])"
      ]
     },
     "execution_count": 28,
     "metadata": {},
     "output_type": "execute_result"
    }
   ],
   "source": [
    "data[1:]"
   ]
  },
  {
   "cell_type": "code",
   "execution_count": 22,
   "id": "fe25fb10-b5b9-40de-a92c-c05eab377796",
   "metadata": {},
   "outputs": [
    {
     "data": {
      "text/plain": [
       "2"
      ]
     },
     "execution_count": 22,
     "metadata": {},
     "output_type": "execute_result"
    }
   ],
   "source": [
    "#Slicing 2D arrays\n",
    "data=np.array([[1,2],[3,4],[5,6]])\n",
    "data[0,1]"
   ]
  },
  {
   "cell_type": "code",
   "execution_count": 31,
   "id": "a33c2241-6046-4fa7-a1a0-fe5db7973b9b",
   "metadata": {},
   "outputs": [
    {
     "data": {
      "text/plain": [
       "array([2, 3])"
      ]
     },
     "execution_count": 31,
     "metadata": {},
     "output_type": "execute_result"
    }
   ],
   "source": [
    "data[1:3]"
   ]
  },
  {
   "cell_type": "code",
   "execution_count": 35,
   "id": "a6986e2f-f243-416a-8fa9-b1c41dde0f1e",
   "metadata": {},
   "outputs": [
    {
     "data": {
      "text/plain": [
       "array([1, 3])"
      ]
     },
     "execution_count": 35,
     "metadata": {},
     "output_type": "execute_result"
    }
   ],
   "source": [
    "data=np.array([[1,2],[3,4],[5,6]])\n",
    "data[0:2,0]"
   ]
  },
  {
   "cell_type": "code",
   "execution_count": 36,
   "id": "365789e2-00f6-4509-9cb5-e050bd04fb4a",
   "metadata": {},
   "outputs": [
    {
     "data": {
      "text/plain": [
       "array([[1, 2],\n",
       "       [3, 4]])"
      ]
     },
     "execution_count": 36,
     "metadata": {},
     "output_type": "execute_result"
    }
   ],
   "source": [
    "data[0:2]"
   ]
  },
  {
   "cell_type": "code",
   "execution_count": 37,
   "id": "f6c53b90-57e3-4bcb-a8e1-630d30d6756f",
   "metadata": {},
   "outputs": [
    {
     "data": {
      "text/plain": [
       "array([4, 6])"
      ]
     },
     "execution_count": 37,
     "metadata": {},
     "output_type": "execute_result"
    }
   ],
   "source": [
    "data[1:3,1]"
   ]
  },
  {
   "cell_type": "code",
   "execution_count": 38,
   "id": "4ce2b492-f10d-46c5-8635-83d53b2b8c25",
   "metadata": {},
   "outputs": [
    {
     "data": {
      "text/plain": [
       "array([2, 4, 6])"
      ]
     },
     "execution_count": 38,
     "metadata": {},
     "output_type": "execute_result"
    }
   ],
   "source": [
    "data[0:3,1]"
   ]
  },
  {
   "cell_type": "code",
   "execution_count": 39,
   "id": "3530ade1-160a-4b6a-a595-7bb1c00bf247",
   "metadata": {},
   "outputs": [
    {
     "data": {
      "text/plain": [
       "array([], shape=(0, 2), dtype=int32)"
      ]
     },
     "execution_count": 39,
     "metadata": {},
     "output_type": "execute_result"
    }
   ],
   "source": [
    "data[0:0]"
   ]
  },
  {
   "cell_type": "code",
   "execution_count": 40,
   "id": "a7fe43b3-3d75-4013-8422-c0c3d255003e",
   "metadata": {},
   "outputs": [
    {
     "name": "stdout",
     "output_type": "stream",
     "text": [
      "[[[ 1  2]\n",
      "  [ 3  4]\n",
      "  [ 5  6]]\n",
      "\n",
      " [[ 7  8]\n",
      "  [ 9 10]\n",
      "  [11 12]]\n",
      "\n",
      " [[13 14]\n",
      "  [15 16]\n",
      "  [17 18]]]\n"
     ]
    }
   ],
   "source": [
    "#slicing 3d array\n",
    "a=np.array([[[1,2],[3,4],[5,6]],[[7,8],[9,10],[11,12]],[[13,14],[15,16],[17,18]]])\n",
    "print(a)"
   ]
  },
  {
   "cell_type": "code",
   "execution_count": 41,
   "id": "35969575-7e4f-4f3a-883d-9bddbe1998ae",
   "metadata": {},
   "outputs": [
    {
     "name": "stdout",
     "output_type": "stream",
     "text": [
      "[[[ 1  2]\n",
      "  [ 3  4]\n",
      "  [ 5  6]]\n",
      "\n",
      " [[ 7  8]\n",
      "  [ 9 10]\n",
      "  [11 12]]]\n"
     ]
    }
   ],
   "source": [
    "print(a[0:2])"
   ]
  },
  {
   "cell_type": "code",
   "execution_count": 45,
   "id": "38fdb99c-3039-410c-b456-5d2d55de014c",
   "metadata": {},
   "outputs": [
    {
     "name": "stdout",
     "output_type": "stream",
     "text": [
      "[[[ 3  4]\n",
      "  [ 5  6]]\n",
      "\n",
      " [[ 9 10]\n",
      "  [11 12]]]\n"
     ]
    }
   ],
   "source": [
    "print(a[0:2,1:])"
   ]
  },
  {
   "cell_type": "code",
   "execution_count": 46,
   "id": "8a6ba5ed-ab68-4138-a001-dec59ade9cf0",
   "metadata": {},
   "outputs": [
    {
     "name": "stdout",
     "output_type": "stream",
     "text": [
      "[[[ 4]\n",
      "  [ 6]]\n",
      "\n",
      " [[10]\n",
      "  [12]]]\n"
     ]
    }
   ],
   "source": [
    "print(a[0:2,1:,1:])"
   ]
  },
  {
   "cell_type": "code",
   "execution_count": 47,
   "id": "865761d3-74fc-4c52-82c3-61c644e57ea8",
   "metadata": {},
   "outputs": [
    {
     "ename": "IndexError",
     "evalue": "too many indices for array: array is 3-dimensional, but 4 were indexed",
     "output_type": "error",
     "traceback": [
      "\u001b[1;31m---------------------------------------------------------------------------\u001b[0m",
      "\u001b[1;31mIndexError\u001b[0m                                Traceback (most recent call last)",
      "Cell \u001b[1;32mIn[47], line 1\u001b[0m\n\u001b[1;32m----> 1\u001b[0m \u001b[38;5;28mprint\u001b[39m(a[\u001b[38;5;241m0\u001b[39m:\u001b[38;5;241m2\u001b[39m,\u001b[38;5;241m1\u001b[39m:,\u001b[38;5;241m1\u001b[39m:,\u001b[38;5;241m1\u001b[39m:])\n",
      "\u001b[1;31mIndexError\u001b[0m: too many indices for array: array is 3-dimensional, but 4 were indexed"
     ]
    }
   ],
   "source": [
    "print(a[0:2,1:,1:])"
   ]
  },
  {
   "cell_type": "code",
   "execution_count": null,
   "id": "324f7789-c01e-4d19-bee3-0738da66eed8",
   "metadata": {},
   "outputs": [],
   "source": []
  }
 ],
 "metadata": {
  "kernelspec": {
   "display_name": "Python 3 (ipykernel)",
   "language": "python",
   "name": "python3"
  },
  "language_info": {
   "codemirror_mode": {
    "name": "ipython",
    "version": 3
   },
   "file_extension": ".py",
   "mimetype": "text/x-python",
   "name": "python",
   "nbconvert_exporter": "python",
   "pygments_lexer": "ipython3",
   "version": "3.11.7"
  }
 },
 "nbformat": 4,
 "nbformat_minor": 5
}
